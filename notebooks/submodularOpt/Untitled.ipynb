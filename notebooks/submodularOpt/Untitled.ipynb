{
 "cells": [
  {
   "cell_type": "code",
   "execution_count": 2,
   "id": "91f59922-7e79-4aff-bc37-befc73538de5",
   "metadata": {},
   "outputs": [
    {
     "name": "stderr",
     "output_type": "stream",
     "text": [
      "/home/jpic/.local/lib/python3.9/site-packages/caffeine.py:77: UserWarning: This package is designed for use on Mac OS X; use on other systems may cause errors and will probably fail.\n",
      "  warnings.warn('This package is designed for use on Mac OS X; use on other systems may cause errors and will probably fail.')\n"
     ]
    },
    {
     "ename": "FileNotFoundError",
     "evalue": "[Errno 2] No such file or directory: 'caffeinate'",
     "output_type": "error",
     "traceback": [
      "\u001b[0;31m---------------------------------------------------------------------------\u001b[0m",
      "\u001b[0;31mFileNotFoundError\u001b[0m                         Traceback (most recent call last)",
      "\u001b[0;32m/tmp/ipykernel_51505/4146364490.py\u001b[0m in \u001b[0;36m<module>\u001b[0;34m\u001b[0m\n\u001b[1;32m     24\u001b[0m \u001b[0msys\u001b[0m\u001b[0;34m.\u001b[0m\u001b[0mpath\u001b[0m\u001b[0;34m.\u001b[0m\u001b[0mappend\u001b[0m\u001b[0;34m(\u001b[0m\u001b[0;34m\"../\"\u001b[0m\u001b[0;34m)\u001b[0m\u001b[0;34m\u001b[0m\u001b[0;34m\u001b[0m\u001b[0m\n\u001b[1;32m     25\u001b[0m \u001b[0;34m\u001b[0m\u001b[0m\n\u001b[0;32m---> 26\u001b[0;31m \u001b[0;32mimport\u001b[0m \u001b[0mnb_util\u001b[0m \u001b[0;32mas\u001b[0m \u001b[0mnb\u001b[0m\u001b[0;34m\u001b[0m\u001b[0;34m\u001b[0m\u001b[0m\n\u001b[0m\u001b[1;32m     27\u001b[0m \u001b[0;32mimport\u001b[0m \u001b[0mutils\u001b[0m \u001b[0;32mas\u001b[0m \u001b[0mut\u001b[0m\u001b[0;34m\u001b[0m\u001b[0;34m\u001b[0m\u001b[0m\n\u001b[1;32m     28\u001b[0m \u001b[0mreload\u001b[0m\u001b[0;34m(\u001b[0m\u001b[0mut\u001b[0m\u001b[0;34m)\u001b[0m\u001b[0;34m\u001b[0m\u001b[0;34m\u001b[0m\u001b[0m\n",
      "\u001b[0;32m~/.local/lib/python3.9/site-packages/nb_util/__init__.py\u001b[0m in \u001b[0;36m<module>\u001b[0;34m\u001b[0m\n\u001b[1;32m      1\u001b[0m \u001b[0;32mimport\u001b[0m \u001b[0mjoblib\u001b[0m\u001b[0;34m\u001b[0m\u001b[0;34m\u001b[0m\u001b[0m\n\u001b[1;32m      2\u001b[0m \u001b[0;32mfrom\u001b[0m \u001b[0mtqdm\u001b[0m \u001b[0;32mimport\u001b[0m \u001b[0mtqdm\u001b[0m\u001b[0;34m\u001b[0m\u001b[0;34m\u001b[0m\u001b[0m\n\u001b[0;32m----> 3\u001b[0;31m \u001b[0;32mimport\u001b[0m \u001b[0mcaffeine\u001b[0m\u001b[0;34m\u001b[0m\u001b[0;34m\u001b[0m\u001b[0m\n\u001b[0m\u001b[1;32m      4\u001b[0m \u001b[0;34m\u001b[0m\u001b[0m\n\u001b[1;32m      5\u001b[0m \u001b[0;32mimport\u001b[0m \u001b[0mplatform\u001b[0m\u001b[0;34m\u001b[0m\u001b[0;34m\u001b[0m\u001b[0m\n",
      "\u001b[0;32m~/.local/lib/python3.9/site-packages/caffeine.py\u001b[0m in \u001b[0;36m<module>\u001b[0;34m\u001b[0m\n\u001b[1;32m     97\u001b[0m         \u001b[0msubprocess\u001b[0m\u001b[0;34m.\u001b[0m\u001b[0mcall\u001b[0m\u001b[0;34m(\u001b[0m\u001b[0;34m[\u001b[0m\u001b[0;34m'pmset'\u001b[0m\u001b[0;34m,\u001b[0m \u001b[0;34m'-g'\u001b[0m\u001b[0;34m,\u001b[0m \u001b[0;34m'assertions'\u001b[0m\u001b[0;34m]\u001b[0m\u001b[0;34m)\u001b[0m\u001b[0;34m\u001b[0m\u001b[0;34m\u001b[0m\u001b[0m\n\u001b[1;32m     98\u001b[0m \u001b[0;34m\u001b[0m\u001b[0m\n\u001b[0;32m---> 99\u001b[0;31m \u001b[0mon\u001b[0m\u001b[0;34m(\u001b[0m\u001b[0;34m)\u001b[0m\u001b[0;34m\u001b[0m\u001b[0;34m\u001b[0m\u001b[0m\n\u001b[0m\u001b[1;32m    100\u001b[0m \u001b[0matexit\u001b[0m\u001b[0;34m.\u001b[0m\u001b[0mregister\u001b[0m\u001b[0;34m(\u001b[0m\u001b[0moff\u001b[0m\u001b[0;34m)\u001b[0m\u001b[0;34m\u001b[0m\u001b[0;34m\u001b[0m\u001b[0m\n\u001b[1;32m    101\u001b[0m \u001b[0;34m\u001b[0m\u001b[0m\n",
      "\u001b[0;32m~/.local/lib/python3.9/site-packages/caffeine.py\u001b[0m in \u001b[0;36mon\u001b[0;34m(display)\u001b[0m\n\u001b[1;32m     86\u001b[0m                 \u001b[0m_caf\u001b[0m \u001b[0;34m=\u001b[0m \u001b[0msubprocess\u001b[0m\u001b[0;34m.\u001b[0m\u001b[0mPopen\u001b[0m\u001b[0;34m(\u001b[0m\u001b[0;34m[\u001b[0m\u001b[0;34m'caffeinate'\u001b[0m\u001b[0;34m,\u001b[0m \u001b[0;34m'-dis'\u001b[0m\u001b[0;34m,\u001b[0m \u001b[0;34m'-w'\u001b[0m\u001b[0;34m,\u001b[0m \u001b[0mstr\u001b[0m\u001b[0;34m(\u001b[0m\u001b[0m_pid\u001b[0m\u001b[0;34m)\u001b[0m\u001b[0;34m]\u001b[0m\u001b[0;34m)\u001b[0m\u001b[0;34m\u001b[0m\u001b[0;34m\u001b[0m\u001b[0m\n\u001b[1;32m     87\u001b[0m         \u001b[0;32melse\u001b[0m\u001b[0;34m:\u001b[0m\u001b[0;34m\u001b[0m\u001b[0;34m\u001b[0m\u001b[0m\n\u001b[0;32m---> 88\u001b[0;31m                 \u001b[0m_caf\u001b[0m \u001b[0;34m=\u001b[0m \u001b[0msubprocess\u001b[0m\u001b[0;34m.\u001b[0m\u001b[0mPopen\u001b[0m\u001b[0;34m(\u001b[0m\u001b[0;34m[\u001b[0m\u001b[0;34m'caffeinate'\u001b[0m\u001b[0;34m,\u001b[0m \u001b[0;34m'-is'\u001b[0m\u001b[0;34m,\u001b[0m \u001b[0;34m'-w'\u001b[0m\u001b[0;34m,\u001b[0m \u001b[0mstr\u001b[0m\u001b[0;34m(\u001b[0m\u001b[0m_pid\u001b[0m\u001b[0;34m)\u001b[0m\u001b[0;34m]\u001b[0m\u001b[0;34m)\u001b[0m\u001b[0;34m\u001b[0m\u001b[0;34m\u001b[0m\u001b[0m\n\u001b[0m\u001b[1;32m     89\u001b[0m \u001b[0;34m\u001b[0m\u001b[0m\n\u001b[1;32m     90\u001b[0m \u001b[0;32mdef\u001b[0m \u001b[0moff\u001b[0m\u001b[0;34m(\u001b[0m\u001b[0;34m)\u001b[0m\u001b[0;34m:\u001b[0m\u001b[0;34m\u001b[0m\u001b[0;34m\u001b[0m\u001b[0m\n",
      "\u001b[0;32m/sw/pkgs/arc/python3.9-anaconda/2021.11/lib/python3.9/subprocess.py\u001b[0m in \u001b[0;36m__init__\u001b[0;34m(self, args, bufsize, executable, stdin, stdout, stderr, preexec_fn, close_fds, shell, cwd, env, universal_newlines, startupinfo, creationflags, restore_signals, start_new_session, pass_fds, user, group, extra_groups, encoding, errors, text, umask)\u001b[0m\n\u001b[1;32m    949\u001b[0m                             encoding=encoding, errors=errors)\n\u001b[1;32m    950\u001b[0m \u001b[0;34m\u001b[0m\u001b[0m\n\u001b[0;32m--> 951\u001b[0;31m             self._execute_child(args, executable, preexec_fn, close_fds,\n\u001b[0m\u001b[1;32m    952\u001b[0m                                 \u001b[0mpass_fds\u001b[0m\u001b[0;34m,\u001b[0m \u001b[0mcwd\u001b[0m\u001b[0;34m,\u001b[0m \u001b[0menv\u001b[0m\u001b[0;34m,\u001b[0m\u001b[0;34m\u001b[0m\u001b[0;34m\u001b[0m\u001b[0m\n\u001b[1;32m    953\u001b[0m                                 \u001b[0mstartupinfo\u001b[0m\u001b[0;34m,\u001b[0m \u001b[0mcreationflags\u001b[0m\u001b[0;34m,\u001b[0m \u001b[0mshell\u001b[0m\u001b[0;34m,\u001b[0m\u001b[0;34m\u001b[0m\u001b[0;34m\u001b[0m\u001b[0m\n",
      "\u001b[0;32m/sw/pkgs/arc/python3.9-anaconda/2021.11/lib/python3.9/subprocess.py\u001b[0m in \u001b[0;36m_execute_child\u001b[0;34m(self, args, executable, preexec_fn, close_fds, pass_fds, cwd, env, startupinfo, creationflags, shell, p2cread, p2cwrite, c2pread, c2pwrite, errread, errwrite, restore_signals, gid, gids, uid, umask, start_new_session)\u001b[0m\n\u001b[1;32m   1819\u001b[0m                     \u001b[0;32mif\u001b[0m \u001b[0merrno_num\u001b[0m \u001b[0;34m!=\u001b[0m \u001b[0;36m0\u001b[0m\u001b[0;34m:\u001b[0m\u001b[0;34m\u001b[0m\u001b[0;34m\u001b[0m\u001b[0m\n\u001b[1;32m   1820\u001b[0m                         \u001b[0merr_msg\u001b[0m \u001b[0;34m=\u001b[0m \u001b[0mos\u001b[0m\u001b[0;34m.\u001b[0m\u001b[0mstrerror\u001b[0m\u001b[0;34m(\u001b[0m\u001b[0merrno_num\u001b[0m\u001b[0;34m)\u001b[0m\u001b[0;34m\u001b[0m\u001b[0;34m\u001b[0m\u001b[0m\n\u001b[0;32m-> 1821\u001b[0;31m                     \u001b[0;32mraise\u001b[0m \u001b[0mchild_exception_type\u001b[0m\u001b[0;34m(\u001b[0m\u001b[0merrno_num\u001b[0m\u001b[0;34m,\u001b[0m \u001b[0merr_msg\u001b[0m\u001b[0;34m,\u001b[0m \u001b[0merr_filename\u001b[0m\u001b[0;34m)\u001b[0m\u001b[0;34m\u001b[0m\u001b[0;34m\u001b[0m\u001b[0m\n\u001b[0m\u001b[1;32m   1822\u001b[0m                 \u001b[0;32mraise\u001b[0m \u001b[0mchild_exception_type\u001b[0m\u001b[0;34m(\u001b[0m\u001b[0merr_msg\u001b[0m\u001b[0;34m)\u001b[0m\u001b[0;34m\u001b[0m\u001b[0;34m\u001b[0m\u001b[0m\n\u001b[1;32m   1823\u001b[0m \u001b[0;34m\u001b[0m\u001b[0m\n",
      "\u001b[0;31mFileNotFoundError\u001b[0m: [Errno 2] No such file or directory: 'caffeinate'"
     ]
    }
   ],
   "source": [
    "# This function computes the Gramian if only individual sensors are selected and writes each one to a file.\n",
    "\n",
    "# Imports\n",
    "import pandas as pd\n",
    "import numpy as np\n",
    "from copy import deepcopy\n",
    "import os\n",
    "import sys\n",
    "from importlib import reload\n",
    "from scipy.stats import zscore\n",
    "import scipy.io\n",
    "import leidenalg\n",
    "import scipy\n",
    "import textwrap\n",
    "\n",
    "from pydmd import DMD\n",
    "\n",
    "import matplotlib\n",
    "import matplotlib.pyplot as plt\n",
    "import seaborn as sns\n",
    "\n",
    "# local imports\n",
    "sys.path.append(\"../../python/\")\n",
    "sys.path.append(\"../\")\n",
    "\n",
    "import nb_util as nb\n",
    "import utils as ut\n",
    "reload(ut)\n",
    "\n",
    "import hasnain_DMD\n",
    "reload(hasnain_DMD)\n",
    "\n",
    "# Load data (taken exactly from Cooper)\n",
    "data_path = f\"/nfs/turbo/umms-indikar/shared/projects/cell_cycle/data/RNA_pipeline_ouputs/countMatrix/counts.raw.txt\"\n",
    "gene_path = f\"/nfs/turbo/umms-indikar/shared/projects/cell_cycle/data/RNA_pipeline_ouputs/references/geneTable.csv\"\n",
    "\n",
    "\"\"\" Load the raw expression \"\"\"\n",
    "df = pd.read_csv(data_path, index_col=0)\n",
    "\n",
    "# remove MT and ribosomal genes\n",
    "all_genes = df.index.to_list()\n",
    "mt_genes = [x for x in all_genes if x.startswith('MT-')]\n",
    "rp_genes = [x for x in all_genes if x.startswith('RP')]\n",
    "\n",
    "print(f\"{df.shape=}\")\n",
    "df = df.drop(mt_genes) # drop MT genes\n",
    "df = df.drop(rp_genes) # drop ribosomal genes\n",
    "print(f\"{df.shape=}\")\n",
    "\n",
    "# rewrite the list without MT genes\n",
    "gene_names = df.index.to_list()\n",
    "\n",
    "print(f\"{len(all_genes)=} {len(mt_genes)=} {len(gene_names)=}\")\n",
    "\n",
    "\"\"\" Load gene lengths \"\"\"\n",
    "gf = nb.getGeneLengths(gene_path, gene_names)\n",
    "print(f\"{gf.shape=}\")\n",
    "\n",
    "target = 1e6\n",
    "threshold = 0.5\n",
    "rank = 7\n",
    "tpm = nb.TPM(df, gf, target=target)\n",
    "\n",
    "# get highly expressed genes\n",
    "tpm_dist = tpm.mean(axis=1)\n",
    "mask = (tpm_dist > threshold)\n",
    "high_exp_genes = tpm_dist[mask].index.to_list()    \n",
    "\n",
    "# filter and convert to fold changes\n",
    "d = tpm[tpm.index.isin(high_exp_genes)]\n",
    "dmd_data = nb.data2DMD(d) \n",
    "print(f\"{dmd_data.shape=}\")\n",
    "\n",
    "dmd_res = hasnain_DMD.dmd(dmd_data, rank=rank)\n",
    "\n",
    "print(f\"{dmd_res['A'].shape=}\")\n",
    "print(f\"{dmd_res['Atilde'].shape=}\")\n",
    "print(f\"{dmd_res['u_r'].shape=}\")\n",
    "print(f\"{dmd_res['L'].shape=}\")\n",
    "print(f\"{dmd_res['W'].shape=}\")\n",
    "print(f\"{dmd_res['Phi'].shape=}\")\n",
    "print(f\"{dmd_res['amplitudes'][0].shape=}\")\n",
    "\n",
    "print('done')\n",
    "\n",
    "\n",
    "A = dmd_res['A']\n",
    "gramT = 3\n",
    "gramPath = '/scratch/indikar_root/indikar0/jpic/subOptSS/2015/'\n",
    "\n",
    "n = A.shape[0]\n",
    "# Submodular optimization\n",
    "S = []              # selected sensors\n",
    "R = list(range(n))  # remaining sensors\n",
    "\n",
    "At = {0: np.eye(A.shape[0])}\n",
    "for t in range(1, gramT):\n",
    "    At[t] = A @ At[t-1]\n",
    "\n",
    "G = {}\n",
    "for vx in R:\n",
    "    print(str(vx) + '/' + str(n))\n",
    "    C = getC(n, [vx]) # create C matrix\n",
    "    C = sparse.csr_matrix(C)\n",
    "    G[vx] = np.zeros_like(A) # construct new gramian\n",
    "    for t in range(gramT):         # vary finite time\n",
    "        G[vx] += (At[t].T @ C.T) @ (C @ At[t])\n",
    "    df = pd.DataFrame(data=G[vx].astype(float))\n",
    "    df.to_csv(gramPath + 'gramT_' + str(gramT) + '/' + str(vx) + '.csv', sep=',', header=False, float_format='%.4f', index=False)\n",
    "    \n",
    "    "
   ]
  },
  {
   "cell_type": "code",
   "execution_count": null,
   "id": "f0d10f67-47e3-4dc6-b624-eb3337b43e9a",
   "metadata": {},
   "outputs": [
    {
     "name": "stdout",
     "output_type": "stream",
     "text": [
      "Found existing installation: nb-util 0.0.1\n",
      "Uninstalling nb-util-0.0.1:\n",
      "  Would remove:\n",
      "    /home/jpic/.local/lib/python3.9/site-packages/nb_util-0.0.1.dist-info/*\n",
      "    /home/jpic/.local/lib/python3.9/site-packages/nb_util/*\n",
      "Proceed (Y/n)? "
     ]
    }
   ],
   "source": [
    "!pip uninstall nb_util"
   ]
  },
  {
   "cell_type": "code",
   "execution_count": 1,
   "id": "b6b9e95c-80f4-41e4-834c-7ab5c052d542",
   "metadata": {},
   "outputs": [],
   "source": [
    "import sys\n",
    "sys.path.append(\"../\")\n",
    "\n",
    "import nb_util as nb"
   ]
  }
 ],
 "metadata": {
  "kernelspec": {
   "display_name": "Python 3 (ipykernel)",
   "language": "python",
   "name": "python3"
  },
  "language_info": {
   "codemirror_mode": {
    "name": "ipython",
    "version": 3
   },
   "file_extension": ".py",
   "mimetype": "text/x-python",
   "name": "python",
   "nbconvert_exporter": "python",
   "pygments_lexer": "ipython3",
   "version": "3.9.7"
  }
 },
 "nbformat": 4,
 "nbformat_minor": 5
}
