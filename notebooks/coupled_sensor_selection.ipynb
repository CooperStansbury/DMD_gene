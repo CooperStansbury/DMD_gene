{
 "cells": [
  {
   "cell_type": "markdown",
   "id": "f39806ca-5b7f-42bd-96cb-b4eead28b595",
   "metadata": {},
   "source": [
    "# Coupled Sensor Selection\n",
    "\n",
    "This notebook aims to perform sensor selection on reprogrammed/reprogramming cells in the 2017 data set by utilizing infromation in the 2015 data set."
   ]
  },
  {
   "cell_type": "code",
   "execution_count": 1,
   "id": "82263c5b-b218-45c5-ac71-cb58d74d8010",
   "metadata": {},
   "outputs": [],
   "source": [
    "# Imports\n",
    "import pandas as pd\n",
    "import numpy as np\n",
    "from copy import deepcopy\n",
    "import os\n",
    "import sys\n",
    "from importlib import reload\n",
    "from scipy.stats import zscore\n",
    "import scipy.io\n",
    "from scipy.interpolate import make_interp_spline, BSpline\n",
    "from scipy.signal import savgol_filter as savgol \n",
    "from sklearn.decomposition import PCA\n",
    "from sklearn.neighbors import NearestNeighbors\n",
    "import leidenalg\n",
    "import umap\n",
    "import time\n",
    "import gget\n",
    "from sklearn import preprocessing\n",
    "from sklearn.preprocessing import StandardScaler\n",
    "from scipy.signal import savgol_filter\n",
    "import scipy\n",
    "import textwrap\n",
    "from scipy import sparse\n",
    "import importlib\n",
    "\n",
    "from pydmd import DMD\n",
    "\n",
    "import matplotlib\n",
    "import matplotlib.pyplot as plt\n",
    "import seaborn as sns\n",
    "\n",
    "# local imports\n",
    "sys.path.append(\"../python/\")\n",
    "\n",
    "import nb_util as nb\n",
    "import utils as ut\n",
    "reload(ut)\n",
    "\n",
    "import hasnain_DMD\n",
    "reload(hasnain_DMD)\n",
    "\n",
    "import sensorSelection\n",
    "reload(sensorSelection)\n",
    "\n",
    "def getC(n, idxs):\n",
    "    C = np.zeros((len(idxs), n))\n",
    "    for i in range(len(idxs)):\n",
    "        C[i, int(idxs[i])] = 1\n",
    "    return C"
   ]
  },
  {
   "cell_type": "markdown",
   "id": "003ec16a-016b-47de-94d6-a56b84eb6073",
   "metadata": {},
   "source": [
    "## Load/Filter/reprocess Data"
   ]
  },
  {
   "cell_type": "markdown",
   "id": "5c2ef3b6-3613-446e-956d-1b92963c7303",
   "metadata": {},
   "source": [
    "### 2015 Cell Cycle Data"
   ]
  },
  {
   "cell_type": "code",
   "execution_count": 2,
   "id": "a1c6e233-1ad9-4bcb-ac8a-d40e6ac60e63",
   "metadata": {},
   "outputs": [
    {
     "name": "stdout",
     "output_type": "stream",
     "text": [
      "df.shape=(19393, 18)\n",
      "df.shape=(19235, 18)\n",
      "len(all_genes)=19393 len(mt_genes)=13 len(gene_names)=19235\n"
     ]
    },
    {
     "name": "stderr",
     "output_type": "stream",
     "text": [
      "/home/jpic/DMD_gene/notebooks/nb_util.py:113: DtypeWarning: Columns (0) have mixed types. Specify dtype option on import or set low_memory=False.\n",
      "  gf = pd.read_csv(gene_table_path)\n"
     ]
    }
   ],
   "source": [
    "# Load data (taken exactly from Cooper)\n",
    "data_path = f\"/nfs/turbo/umms-indikar/shared/projects/cell_cycle/data/RNA_pipeline_ouputs/countMatrix/counts.raw.txt\"\n",
    "gene_path = f\"/nfs/turbo/umms-indikar/shared/projects/cell_cycle/data/RNA_pipeline_ouputs/references/geneTable.csv\"\n",
    "\n",
    "\"\"\" Load the raw expression \"\"\"\n",
    "df = pd.read_csv(data_path, index_col=0)\n",
    "\n",
    "# remove MT and ribosomal genes\n",
    "all_genes = df.index.to_list()\n",
    "mt_genes = [x for x in all_genes if x.startswith('MT-')]\n",
    "rp_genes = [x for x in all_genes if x.startswith('RP')]\n",
    "\n",
    "print(f\"{df.shape=}\")\n",
    "df = df.drop(mt_genes) # drop MT genes\n",
    "df = df.drop(rp_genes) # drop ribosomal genes\n",
    "print(f\"{df.shape=}\")\n",
    "\n",
    "# rewrite the list without MT genes\n",
    "gene_names = df.index.to_list()\n",
    "\n",
    "print(f\"{len(all_genes)=} {len(mt_genes)=} {len(gene_names)=}\")\n",
    "\n",
    "\"\"\" Load gene lengths \"\"\"\n",
    "gf = nb.getGeneLengths(gene_path, gene_names)\n",
    "\n",
    "target = 1e6\n",
    "threshold = 0.5\n",
    "rank = 7\n",
    "tpm = nb.TPM(df, gf, target=target)\n",
    "\n",
    "# get highly expressed genes\n",
    "tpm_dist = tpm.mean(axis=1)\n",
    "mask = (tpm_dist > threshold)\n",
    "high_exp_genes = tpm_dist[mask].index.to_list()    \n",
    "\n",
    "# filter and convert to fold changes\n",
    "d = tpm[tpm.index.isin(high_exp_genes)]\n",
    "dmd_data_2015 = nb.data2DMD(d)\n"
   ]
  },
  {
   "cell_type": "markdown",
   "id": "ae2296d1-0bc7-4300-b4ec-bb4036350217",
   "metadata": {},
   "source": [
    "### 2017 Reprogramming Data"
   ]
  },
  {
   "cell_type": "code",
   "execution_count": 3,
   "id": "55fd66fc-f817-4297-b64c-38d33249c01d",
   "metadata": {},
   "outputs": [
    {
     "name": "stdout",
     "output_type": "stream",
     "text": [
      "df.shape=(19393, 48)\n",
      "df.shape=(19235, 48)\n",
      "len(all_genes)=19393 len(mt_genes)=13 len(gene_names)=19235\n"
     ]
    },
    {
     "name": "stderr",
     "output_type": "stream",
     "text": [
      "/home/jpic/DMD_gene/notebooks/nb_util.py:113: DtypeWarning: Columns (0) have mixed types. Specify dtype option on import or set low_memory=False.\n",
      "  gf = pd.read_csv(gene_table_path)\n"
     ]
    }
   ],
   "source": [
    "# Load data (taken exactly from Cooper)\n",
    "data_path = f\"/nfs/turbo/umms-indikar/shared/projects/myod/data/rnaseq/2018_rna/countMatrix/counts.raw.txt\"\n",
    "gene_path = f\"/nfs/turbo/umms-indikar/shared/projects/cell_cycle/data/RNA_pipeline_ouputs/references/geneTable.csv\"\n",
    "\n",
    "\"\"\" Load the raw expression \"\"\"\n",
    "df = pd.read_csv(data_path, index_col=0)\n",
    "\n",
    "# remove MT and ribosomal genes\n",
    "all_genes = df.index.to_list()\n",
    "mt_genes = [x for x in all_genes if x.startswith('MT-')]\n",
    "rp_genes = [x for x in all_genes if x.startswith('RP')]\n",
    "\n",
    "print(f\"{df.shape=}\")\n",
    "df = df.drop(mt_genes) # drop MT genes\n",
    "df = df.drop(rp_genes) # drop ribosomal genes\n",
    "print(f\"{df.shape=}\")\n",
    "\n",
    "# rewrite the list without MT genes\n",
    "gene_names = df.index.to_list()\n",
    "\n",
    "print(f\"{len(all_genes)=} {len(mt_genes)=} {len(gene_names)=}\")\n",
    "\n",
    "\"\"\" Load gene lengths \"\"\"\n",
    "gf = nb.getGeneLengths(gene_path, gene_names)\n",
    "target = 1e6\n",
    "#threshold = 0.5\n",
    "#rank = 7\n",
    "tpm = nb.TPM(df, gf, target=target)\n",
    "tpm = tpm.loc[high_exp_genes]\n",
    "dmd_data_2017 = nb.data2DMD2017(tpm)"
   ]
  },
  {
   "cell_type": "code",
   "execution_count": 4,
   "id": "1b8e0f1e-7a00-4591-ae69-eac0d1af1493",
   "metadata": {},
   "outputs": [
    {
     "name": "stdout",
     "output_type": "stream",
     "text": [
      "(8112, 15, 2)\n",
      "(8112, 8, 2)\n"
     ]
    }
   ],
   "source": [
    "print(dmd_data_2017.shape)\n",
    "print(dmd_data_2015.shape)"
   ]
  },
  {
   "cell_type": "markdown",
   "id": "308ecbd9-9b43-4353-92fb-863b5f5be785",
   "metadata": {},
   "source": [
    "## Comparative Sensor Selection"
   ]
  },
  {
   "cell_type": "code",
   "execution_count": 6,
   "id": "052a9621-d533-4789-8619-4001d08aea84",
   "metadata": {},
   "outputs": [
    {
     "data": {
      "text/plain": [
       "<module 'sensorSelection' from '/home/jpic/DMD_gene/notebooks/../python/sensorSelection.py'>"
      ]
     },
     "execution_count": 6,
     "metadata": {},
     "output_type": "execute_result"
    }
   ],
   "source": [
    "reload(sensorSelection)"
   ]
  },
  {
   "cell_type": "code",
   "execution_count": 7,
   "id": "c919f7f7-4b2b-478a-8afc-ed94796c1ac9",
   "metadata": {},
   "outputs": [],
   "source": [
    "ss2015 = sensorSelection.hasnain2023(dmd_data_2015, dmd_rank=7, gramT=10, vxNames=high_exp_genes)\n"
   ]
  },
  {
   "cell_type": "code",
   "execution_count": 10,
   "id": "4336b6b1-0732-41f3-b524-501eeeb879d0",
   "metadata": {},
   "outputs": [],
   "source": [
    "ss2017 = sensorSelection.hasnain2023(dmd_data_2017, dmd_rank=7, gramT=10, vxNames=high_exp_genes)\n"
   ]
  },
  {
   "cell_type": "code",
   "execution_count": 9,
   "id": "7f2c7d40-d345-4df8-9325-6f6f00431e62",
   "metadata": {},
   "outputs": [
    {
     "data": {
      "text/html": [
       "<div>\n",
       "<style scoped>\n",
       "    .dataframe tbody tr th:only-of-type {\n",
       "        vertical-align: middle;\n",
       "    }\n",
       "\n",
       "    .dataframe tbody tr th {\n",
       "        vertical-align: top;\n",
       "    }\n",
       "\n",
       "    .dataframe thead th {\n",
       "        text-align: right;\n",
       "    }\n",
       "</style>\n",
       "<table border=\"1\" class=\"dataframe\">\n",
       "  <thead>\n",
       "    <tr style=\"text-align: right;\">\n",
       "      <th></th>\n",
       "      <th>gene</th>\n",
       "      <th>ev1</th>\n",
       "      <th>weight</th>\n",
       "      <th>rank</th>\n",
       "    </tr>\n",
       "  </thead>\n",
       "  <tbody>\n",
       "    <tr>\n",
       "      <th>2480</th>\n",
       "      <td>GAPDH</td>\n",
       "      <td>0.451304+0.000000j</td>\n",
       "      <td>0.451304</td>\n",
       "      <td>1.0</td>\n",
       "    </tr>\n",
       "    <tr>\n",
       "      <th>6966</th>\n",
       "      <td>TMSB4X</td>\n",
       "      <td>0.343204+0.000000j</td>\n",
       "      <td>0.343204</td>\n",
       "      <td>2.0</td>\n",
       "    </tr>\n",
       "    <tr>\n",
       "      <th>573</th>\n",
       "      <td>B2M</td>\n",
       "      <td>0.250874+0.000000j</td>\n",
       "      <td>0.250874</td>\n",
       "      <td>3.0</td>\n",
       "    </tr>\n",
       "    <tr>\n",
       "      <th>2927</th>\n",
       "      <td>HLA-DRA</td>\n",
       "      <td>0.238704+0.000000j</td>\n",
       "      <td>0.238704</td>\n",
       "      <td>4.0</td>\n",
       "    </tr>\n",
       "    <tr>\n",
       "      <th>2433</th>\n",
       "      <td>FTL</td>\n",
       "      <td>0.212981+0.000000j</td>\n",
       "      <td>0.212981</td>\n",
       "      <td>5.0</td>\n",
       "    </tr>\n",
       "    <tr>\n",
       "      <th>...</th>\n",
       "      <td>...</td>\n",
       "      <td>...</td>\n",
       "      <td>...</td>\n",
       "      <td>...</td>\n",
       "    </tr>\n",
       "    <tr>\n",
       "      <th>4711</th>\n",
       "      <td>PCDHGC3</td>\n",
       "      <td>-0.002543+0.000000j</td>\n",
       "      <td>-0.002543</td>\n",
       "      <td>8108.0</td>\n",
       "    </tr>\n",
       "    <tr>\n",
       "      <th>4390</th>\n",
       "      <td>NMB</td>\n",
       "      <td>-0.002548+0.000000j</td>\n",
       "      <td>-0.002548</td>\n",
       "      <td>8109.0</td>\n",
       "    </tr>\n",
       "    <tr>\n",
       "      <th>4617</th>\n",
       "      <td>OXCT2</td>\n",
       "      <td>-0.002552+0.000000j</td>\n",
       "      <td>-0.002552</td>\n",
       "      <td>8110.0</td>\n",
       "    </tr>\n",
       "    <tr>\n",
       "      <th>6994</th>\n",
       "      <td>TNFSF13</td>\n",
       "      <td>-0.002555+0.000000j</td>\n",
       "      <td>-0.002555</td>\n",
       "      <td>8111.0</td>\n",
       "    </tr>\n",
       "    <tr>\n",
       "      <th>651</th>\n",
       "      <td>BHLHA15</td>\n",
       "      <td>-0.002565+0.000000j</td>\n",
       "      <td>-0.002565</td>\n",
       "      <td>8112.0</td>\n",
       "    </tr>\n",
       "  </tbody>\n",
       "</table>\n",
       "<p>8112 rows × 4 columns</p>\n",
       "</div>"
      ],
      "text/plain": [
       "         gene                 ev1    weight    rank\n",
       "2480    GAPDH  0.451304+0.000000j  0.451304     1.0\n",
       "6966   TMSB4X  0.343204+0.000000j  0.343204     2.0\n",
       "573       B2M  0.250874+0.000000j  0.250874     3.0\n",
       "2927  HLA-DRA  0.238704+0.000000j  0.238704     4.0\n",
       "2433      FTL  0.212981+0.000000j  0.212981     5.0\n",
       "...       ...                 ...       ...     ...\n",
       "4711  PCDHGC3 -0.002543+0.000000j -0.002543  8108.0\n",
       "4390      NMB -0.002548+0.000000j -0.002548  8109.0\n",
       "4617    OXCT2 -0.002552+0.000000j -0.002552  8110.0\n",
       "6994  TNFSF13 -0.002555+0.000000j -0.002555  8111.0\n",
       "651   BHLHA15 -0.002565+0.000000j -0.002565  8112.0\n",
       "\n",
       "[8112 rows x 4 columns]"
      ]
     },
     "execution_count": 9,
     "metadata": {},
     "output_type": "execute_result"
    }
   ],
   "source": [
    "ss2015['sensors']"
   ]
  },
  {
   "cell_type": "code",
   "execution_count": 13,
   "id": "f48df4aa-2904-4d49-a262-56a37f120ff5",
   "metadata": {},
   "outputs": [
    {
     "data": {
      "text/html": [
       "<div>\n",
       "<style scoped>\n",
       "    .dataframe tbody tr th:only-of-type {\n",
       "        vertical-align: middle;\n",
       "    }\n",
       "\n",
       "    .dataframe tbody tr th {\n",
       "        vertical-align: top;\n",
       "    }\n",
       "\n",
       "    .dataframe thead th {\n",
       "        text-align: right;\n",
       "    }\n",
       "</style>\n",
       "<table border=\"1\" class=\"dataframe\">\n",
       "  <thead>\n",
       "    <tr style=\"text-align: right;\">\n",
       "      <th></th>\n",
       "      <th>gene</th>\n",
       "      <th>ev1</th>\n",
       "      <th>weight</th>\n",
       "      <th>rank</th>\n",
       "    </tr>\n",
       "  </thead>\n",
       "  <tbody>\n",
       "    <tr>\n",
       "      <th>6042</th>\n",
       "      <td>SIRPG</td>\n",
       "      <td>0.002753+0.000000j</td>\n",
       "      <td>0.002753</td>\n",
       "      <td>22.0</td>\n",
       "    </tr>\n",
       "    <tr>\n",
       "      <th>104</th>\n",
       "      <td>ACY3</td>\n",
       "      <td>0.002753+0.000000j</td>\n",
       "      <td>0.002753</td>\n",
       "      <td>22.0</td>\n",
       "    </tr>\n",
       "    <tr>\n",
       "      <th>3493</th>\n",
       "      <td>LGALS14</td>\n",
       "      <td>0.002753+0.000000j</td>\n",
       "      <td>0.002753</td>\n",
       "      <td>22.0</td>\n",
       "    </tr>\n",
       "    <tr>\n",
       "      <th>3441</th>\n",
       "      <td>LAIR1</td>\n",
       "      <td>0.002753+0.000000j</td>\n",
       "      <td>0.002753</td>\n",
       "      <td>22.0</td>\n",
       "    </tr>\n",
       "    <tr>\n",
       "      <th>996</th>\n",
       "      <td>CCL22</td>\n",
       "      <td>0.002753+0.000000j</td>\n",
       "      <td>0.002753</td>\n",
       "      <td>22.0</td>\n",
       "    </tr>\n",
       "    <tr>\n",
       "      <th>...</th>\n",
       "      <td>...</td>\n",
       "      <td>...</td>\n",
       "      <td>...</td>\n",
       "      <td>...</td>\n",
       "    </tr>\n",
       "    <tr>\n",
       "      <th>6965</th>\n",
       "      <td>TMSB10</td>\n",
       "      <td>-0.186987+0.000000j</td>\n",
       "      <td>-0.186987</td>\n",
       "      <td>8108.0</td>\n",
       "    </tr>\n",
       "    <tr>\n",
       "      <th>2480</th>\n",
       "      <td>GAPDH</td>\n",
       "      <td>-0.233729+0.000000j</td>\n",
       "      <td>-0.233729</td>\n",
       "      <td>8109.0</td>\n",
       "    </tr>\n",
       "    <tr>\n",
       "      <th>7497</th>\n",
       "      <td>VIM</td>\n",
       "      <td>-0.271955+0.000000j</td>\n",
       "      <td>-0.271955</td>\n",
       "      <td>8110.0</td>\n",
       "    </tr>\n",
       "    <tr>\n",
       "      <th>5790</th>\n",
       "      <td>S100A6</td>\n",
       "      <td>-0.294759+0.000000j</td>\n",
       "      <td>-0.294759</td>\n",
       "      <td>8111.0</td>\n",
       "    </tr>\n",
       "    <tr>\n",
       "      <th>2433</th>\n",
       "      <td>FTL</td>\n",
       "      <td>-0.499872+0.000000j</td>\n",
       "      <td>-0.499872</td>\n",
       "      <td>8112.0</td>\n",
       "    </tr>\n",
       "  </tbody>\n",
       "</table>\n",
       "<p>8112 rows × 4 columns</p>\n",
       "</div>"
      ],
      "text/plain": [
       "         gene                 ev1    weight    rank\n",
       "6042    SIRPG  0.002753+0.000000j  0.002753    22.0\n",
       "104      ACY3  0.002753+0.000000j  0.002753    22.0\n",
       "3493  LGALS14  0.002753+0.000000j  0.002753    22.0\n",
       "3441    LAIR1  0.002753+0.000000j  0.002753    22.0\n",
       "996     CCL22  0.002753+0.000000j  0.002753    22.0\n",
       "...       ...                 ...       ...     ...\n",
       "6965   TMSB10 -0.186987+0.000000j -0.186987  8108.0\n",
       "2480    GAPDH -0.233729+0.000000j -0.233729  8109.0\n",
       "7497      VIM -0.271955+0.000000j -0.271955  8110.0\n",
       "5790   S100A6 -0.294759+0.000000j -0.294759  8111.0\n",
       "2433      FTL -0.499872+0.000000j -0.499872  8112.0\n",
       "\n",
       "[8112 rows x 4 columns]"
      ]
     },
     "execution_count": 13,
     "metadata": {},
     "output_type": "execute_result"
    }
   ],
   "source": [
    "ss2017['sensors']"
   ]
  },
  {
   "cell_type": "code",
   "execution_count": null,
   "id": "2b788b16-fd29-42b1-9baa-1312f683555c",
   "metadata": {},
   "outputs": [],
   "source": [
    "subset_tpm = tpm.loc[high_exp_genes]\n",
    "subset_tpm"
   ]
  },
  {
   "cell_type": "code",
   "execution_count": null,
   "id": "02efc29b-411e-4b37-806e-1a95bfb1c348",
   "metadata": {},
   "outputs": [],
   "source": [
    "target = 1e6\n",
    "threshold = 0.5\n",
    "rank = 7\n",
    "tpm = nb.TPM(df, gf, target=target)\n",
    "\n",
    "# get highly expressed genes\n",
    "tpm_dist = tpm.mean(axis=1)\n",
    "mask = (tpm_dist > threshold)\n",
    "high_exp_genes = tpm_dist[mask].index.to_list()\n",
    "\n",
    "# filter and convert to fold changes\n",
    "d = tpm[tpm.index.isin(high_exp_genes)]\n",
    "dmd_data_2017 = nb.data2DMD2017(d)\n",
    "print(f\"{dmd_data.shape=}\")\n",
    "\n",
    "dmd_res = hasnain_DMD.dmd(dmd_data, rank=rank)\n",
    "\n",
    "print(f\"{dmd_res['A'].shape=}\")\n",
    "print(f\"{dmd_res['Atilde'].shape=}\")\n",
    "print(f\"{dmd_res['u_r'].shape=}\")\n",
    "print(f\"{dmd_res['L'].shape=}\")\n",
    "print(f\"{dmd_res['W'].shape=}\")\n",
    "print(f\"{dmd_res['Phi'].shape=}\")\n",
    "print(f\"{dmd_res['amplitudes'][0].shape=}\")\n",
    "print('done')"
   ]
  },
  {
   "cell_type": "markdown",
   "id": "f1979618-595a-47a8-8610-c57e0802021c",
   "metadata": {},
   "source": [
    "## Scratch"
   ]
  },
  {
   "cell_type": "code",
   "execution_count": null,
   "id": "f449da24-bebb-4e14-a829-19a2663f67b8",
   "metadata": {},
   "outputs": [],
   "source": [
    "!head /nfs/turbo/umms-indikar/shared/projects/cell_cycle/data/RNA_pipeline_ouputs/countMatrix/counts.raw.txt"
   ]
  },
  {
   "cell_type": "code",
   "execution_count": null,
   "id": "75a03274-8407-4d08-9068-b1d4f9154f96",
   "metadata": {},
   "outputs": [],
   "source": [
    "!head /nfs/turbo/umms-indikar/shared/projects/myod/data/rnaseq/2018_rna/countMatrix/counts.raw.txt"
   ]
  }
 ],
 "metadata": {
  "kernelspec": {
   "display_name": "Python 3 (ipykernel)",
   "language": "python",
   "name": "python3"
  },
  "language_info": {
   "codemirror_mode": {
    "name": "ipython",
    "version": 3
   },
   "file_extension": ".py",
   "mimetype": "text/x-python",
   "name": "python",
   "nbconvert_exporter": "python",
   "pygments_lexer": "ipython3",
   "version": "3.9.7"
  }
 },
 "nbformat": 4,
 "nbformat_minor": 5
}
