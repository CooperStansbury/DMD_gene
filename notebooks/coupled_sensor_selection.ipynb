{
 "cells": [
  {
   "cell_type": "markdown",
   "id": "f39806ca-5b7f-42bd-96cb-b4eead28b595",
   "metadata": {},
   "source": [
    "# Coupled Sensor Selection\n",
    "\n",
    "This notebook aims to perform sensor selection on reprogrammed/reprogramming cells in the 2017 data set by utilizing infromation in the 2015 data set."
   ]
  },
  {
   "cell_type": "code",
   "execution_count": 1,
   "id": "82263c5b-b218-45c5-ac71-cb58d74d8010",
   "metadata": {},
   "outputs": [],
   "source": [
    "# Imports\n",
    "import pandas as pd\n",
    "import numpy as np\n",
    "from copy import deepcopy\n",
    "import os\n",
    "import sys\n",
    "from importlib import reload\n",
    "from scipy.stats import zscore\n",
    "import scipy.io\n",
    "from scipy.interpolate import make_interp_spline, BSpline\n",
    "from scipy.signal import savgol_filter as savgol \n",
    "from sklearn.decomposition import PCA\n",
    "from sklearn.neighbors import NearestNeighbors\n",
    "import leidenalg\n",
    "import umap\n",
    "import time\n",
    "import gget\n",
    "from sklearn import preprocessing\n",
    "from sklearn.preprocessing import StandardScaler\n",
    "from scipy.signal import savgol_filter\n",
    "import scipy\n",
    "import textwrap\n",
    "from scipy import sparse\n",
    "\n",
    "from pydmd import DMD\n",
    "\n",
    "import matplotlib\n",
    "import matplotlib.pyplot as plt\n",
    "import seaborn as sns\n",
    "\n",
    "# local imports\n",
    "sys.path.append(\"../python/\")\n",
    "\n",
    "import nb_util as nb\n",
    "import utils as ut\n",
    "reload(ut)\n",
    "\n",
    "import hasnain_DMD\n",
    "reload(hasnain_DMD)\n",
    "\n",
    "def getC(n, idxs):\n",
    "    C = np.zeros((len(idxs), n))\n",
    "    for i in range(len(idxs)):\n",
    "        C[i, int(idxs[i])] = 1\n",
    "    return C"
   ]
  },
  {
   "cell_type": "code",
   "execution_count": null,
   "id": "a1c6e233-1ad9-4bcb-ac8a-d40e6ac60e63",
   "metadata": {},
   "outputs": [],
   "source": [
    "# Load data (taken exactly from Cooper)\n",
    "data_path = f\"/nfs/turbo/umms-indikar/shared/projects/cell_cycle/data/RNA_pipeline_ouputs/countMatrix/counts.raw.txt\"\n",
    "gene_path = f\"/nfs/turbo/umms-indikar/shared/projects/cell_cycle/data/RNA_pipeline_ouputs/references/geneTable.csv\"\n",
    "\n",
    "\"\"\" Load the raw expression \"\"\"\n",
    "df = pd.read_csv(data_path, index_col=0)\n",
    "\n",
    "# remove MT and ribosomal genes\n",
    "all_genes = df.index.to_list()\n",
    "mt_genes = [x for x in all_genes if x.startswith('MT-')]\n",
    "rp_genes = [x for x in all_genes if x.startswith('RP')]\n",
    "\n",
    "print(f\"{df.shape=}\")\n",
    "df = df.drop(mt_genes) # drop MT genes\n",
    "df = df.drop(rp_genes) # drop ribosomal genes\n",
    "print(f\"{df.shape=}\")\n",
    "\n",
    "# rewrite the list without MT genes\n",
    "gene_names = df.index.to_list()\n",
    "\n",
    "print(f\"{len(all_genes)=} {len(mt_genes)=} {len(gene_names)=}\")\n",
    "\n",
    "\"\"\" Load gene lengths \"\"\"\n",
    "gf = nb.getGeneLengths(gene_path, gene_names)\n",
    "print(f\"{gf.shape=}\")\n",
    "\n",
    "df.head()"
   ]
  }
 ],
 "metadata": {
  "kernelspec": {
   "display_name": "Python 3 (ipykernel)",
   "language": "python",
   "name": "python3"
  },
  "language_info": {
   "codemirror_mode": {
    "name": "ipython",
    "version": 3
   },
   "file_extension": ".py",
   "mimetype": "text/x-python",
   "name": "python",
   "nbconvert_exporter": "python",
   "pygments_lexer": "ipython3",
   "version": "3.9.7"
  }
 },
 "nbformat": 4,
 "nbformat_minor": 5
}
