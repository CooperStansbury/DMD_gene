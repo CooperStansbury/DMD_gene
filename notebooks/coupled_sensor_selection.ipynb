{
 "cells": [
  {
   "cell_type": "markdown",
   "id": "f39806ca-5b7f-42bd-96cb-b4eead28b595",
   "metadata": {},
   "source": [
    "# Coupled Sensor Selection\n",
    "\n",
    "This notebook aims to perform sensor selection on reprogrammed/reprogramming cells in the 2017 data set by utilizing infromation in the 2015 data set."
   ]
  },
  {
   "cell_type": "code",
   "execution_count": 1,
   "id": "82263c5b-b218-45c5-ac71-cb58d74d8010",
   "metadata": {},
   "outputs": [],
   "source": [
    "# Imports\n",
    "import pandas as pd\n",
    "import numpy as np\n",
    "from copy import deepcopy\n",
    "import os\n",
    "import sys\n",
    "from importlib import reload\n",
    "from scipy.stats import zscore\n",
    "import scipy.io\n",
    "from scipy.interpolate import make_interp_spline, BSpline\n",
    "from scipy.signal import savgol_filter as savgol \n",
    "from sklearn.decomposition import PCA\n",
    "from sklearn.neighbors import NearestNeighbors\n",
    "import leidenalg\n",
    "import umap\n",
    "import time\n",
    "import gget\n",
    "from sklearn import preprocessing\n",
    "from sklearn.preprocessing import StandardScaler\n",
    "from scipy.signal import savgol_filter\n",
    "import scipy\n",
    "import textwrap\n",
    "from scipy import sparse\n",
    "\n",
    "from pydmd import DMD\n",
    "\n",
    "import matplotlib\n",
    "import matplotlib.pyplot as plt\n",
    "import seaborn as sns\n",
    "\n",
    "# local imports\n",
    "sys.path.append(\"../python/\")\n",
    "\n",
    "import nb_util as nb\n",
    "import utils as ut\n",
    "reload(ut)\n",
    "\n",
    "import hasnain_DMD\n",
    "reload(hasnain_DMD)\n",
    "\n",
    "def getC(n, idxs):\n",
    "    C = np.zeros((len(idxs), n))\n",
    "    for i in range(len(idxs)):\n",
    "        C[i, int(idxs[i])] = 1\n",
    "    return C"
   ]
  },
  {
   "cell_type": "markdown",
   "id": "003ec16a-016b-47de-94d6-a56b84eb6073",
   "metadata": {},
   "source": [
    "## Load/Filter/reprocess Data"
   ]
  },
  {
   "cell_type": "markdown",
   "id": "5c2ef3b6-3613-446e-956d-1b92963c7303",
   "metadata": {},
   "source": [
    "### 2015 Cell Cycle Data"
   ]
  },
  {
   "cell_type": "code",
   "execution_count": 2,
   "id": "a1c6e233-1ad9-4bcb-ac8a-d40e6ac60e63",
   "metadata": {},
   "outputs": [
    {
     "name": "stdout",
     "output_type": "stream",
     "text": [
      "df.shape=(19393, 18)\n",
      "df.shape=(19235, 18)\n",
      "len(all_genes)=19393 len(mt_genes)=13 len(gene_names)=19235\n"
     ]
    },
    {
     "name": "stderr",
     "output_type": "stream",
     "text": [
      "/home/jpic/DMD_gene/notebooks/nb_util.py:113: DtypeWarning: Columns (0) have mixed types. Specify dtype option on import or set low_memory=False.\n",
      "  gf = pd.read_csv(gene_table_path)\n"
     ]
    },
    {
     "name": "stdout",
     "output_type": "stream",
     "text": [
      "gf.shape=(19235, 2)\n"
     ]
    },
    {
     "data": {
      "text/html": [
       "<div>\n",
       "<style scoped>\n",
       "    .dataframe tbody tr th:only-of-type {\n",
       "        vertical-align: middle;\n",
       "    }\n",
       "\n",
       "    .dataframe tbody tr th {\n",
       "        vertical-align: top;\n",
       "    }\n",
       "\n",
       "    .dataframe thead th {\n",
       "        text-align: right;\n",
       "    }\n",
       "</style>\n",
       "<table border=\"1\" class=\"dataframe\">\n",
       "  <thead>\n",
       "    <tr style=\"text-align: right;\">\n",
       "      <th></th>\n",
       "      <th>S1a</th>\n",
       "      <th>S1b</th>\n",
       "      <th>S2a</th>\n",
       "      <th>S2b</th>\n",
       "      <th>S3a</th>\n",
       "      <th>S3b</th>\n",
       "      <th>S4a</th>\n",
       "      <th>S4b</th>\n",
       "      <th>S5a</th>\n",
       "      <th>S5b</th>\n",
       "      <th>S6a</th>\n",
       "      <th>S6b</th>\n",
       "      <th>S7a</th>\n",
       "      <th>S7b</th>\n",
       "      <th>S8a</th>\n",
       "      <th>S8b</th>\n",
       "      <th>S9a</th>\n",
       "      <th>S9b</th>\n",
       "    </tr>\n",
       "    <tr>\n",
       "      <th>geneName</th>\n",
       "      <th></th>\n",
       "      <th></th>\n",
       "      <th></th>\n",
       "      <th></th>\n",
       "      <th></th>\n",
       "      <th></th>\n",
       "      <th></th>\n",
       "      <th></th>\n",
       "      <th></th>\n",
       "      <th></th>\n",
       "      <th></th>\n",
       "      <th></th>\n",
       "      <th></th>\n",
       "      <th></th>\n",
       "      <th></th>\n",
       "      <th></th>\n",
       "      <th></th>\n",
       "      <th></th>\n",
       "    </tr>\n",
       "  </thead>\n",
       "  <tbody>\n",
       "    <tr>\n",
       "      <th>A1BG</th>\n",
       "      <td>12</td>\n",
       "      <td>5</td>\n",
       "      <td>5</td>\n",
       "      <td>9</td>\n",
       "      <td>2</td>\n",
       "      <td>6</td>\n",
       "      <td>7</td>\n",
       "      <td>3</td>\n",
       "      <td>6</td>\n",
       "      <td>5</td>\n",
       "      <td>5</td>\n",
       "      <td>5</td>\n",
       "      <td>4</td>\n",
       "      <td>3</td>\n",
       "      <td>4</td>\n",
       "      <td>5</td>\n",
       "      <td>5</td>\n",
       "      <td>3</td>\n",
       "    </tr>\n",
       "    <tr>\n",
       "      <th>A1CF</th>\n",
       "      <td>0</td>\n",
       "      <td>0</td>\n",
       "      <td>0</td>\n",
       "      <td>0</td>\n",
       "      <td>0</td>\n",
       "      <td>0</td>\n",
       "      <td>0</td>\n",
       "      <td>0</td>\n",
       "      <td>0</td>\n",
       "      <td>0</td>\n",
       "      <td>0</td>\n",
       "      <td>1</td>\n",
       "      <td>2</td>\n",
       "      <td>0</td>\n",
       "      <td>2</td>\n",
       "      <td>0</td>\n",
       "      <td>0</td>\n",
       "      <td>0</td>\n",
       "    </tr>\n",
       "    <tr>\n",
       "      <th>A2M</th>\n",
       "      <td>0</td>\n",
       "      <td>0</td>\n",
       "      <td>0</td>\n",
       "      <td>2</td>\n",
       "      <td>0</td>\n",
       "      <td>0</td>\n",
       "      <td>0</td>\n",
       "      <td>0</td>\n",
       "      <td>0</td>\n",
       "      <td>0</td>\n",
       "      <td>1</td>\n",
       "      <td>0</td>\n",
       "      <td>1</td>\n",
       "      <td>0</td>\n",
       "      <td>0</td>\n",
       "      <td>0</td>\n",
       "      <td>0</td>\n",
       "      <td>2</td>\n",
       "    </tr>\n",
       "    <tr>\n",
       "      <th>A2ML1</th>\n",
       "      <td>0</td>\n",
       "      <td>0</td>\n",
       "      <td>0</td>\n",
       "      <td>0</td>\n",
       "      <td>0</td>\n",
       "      <td>0</td>\n",
       "      <td>0</td>\n",
       "      <td>1</td>\n",
       "      <td>0</td>\n",
       "      <td>0</td>\n",
       "      <td>0</td>\n",
       "      <td>0</td>\n",
       "      <td>0</td>\n",
       "      <td>1</td>\n",
       "      <td>0</td>\n",
       "      <td>0</td>\n",
       "      <td>0</td>\n",
       "      <td>0</td>\n",
       "    </tr>\n",
       "    <tr>\n",
       "      <th>A3GALT2</th>\n",
       "      <td>0</td>\n",
       "      <td>0</td>\n",
       "      <td>0</td>\n",
       "      <td>0</td>\n",
       "      <td>0</td>\n",
       "      <td>0</td>\n",
       "      <td>0</td>\n",
       "      <td>0</td>\n",
       "      <td>0</td>\n",
       "      <td>0</td>\n",
       "      <td>0</td>\n",
       "      <td>0</td>\n",
       "      <td>0</td>\n",
       "      <td>0</td>\n",
       "      <td>0</td>\n",
       "      <td>0</td>\n",
       "      <td>0</td>\n",
       "      <td>0</td>\n",
       "    </tr>\n",
       "  </tbody>\n",
       "</table>\n",
       "</div>"
      ],
      "text/plain": [
       "          S1a  S1b  S2a  S2b  S3a  S3b  S4a  S4b  S5a  S5b  S6a  S6b  S7a  \\\n",
       "geneName                                                                    \n",
       "A1BG       12    5    5    9    2    6    7    3    6    5    5    5    4   \n",
       "A1CF        0    0    0    0    0    0    0    0    0    0    0    1    2   \n",
       "A2M         0    0    0    2    0    0    0    0    0    0    1    0    1   \n",
       "A2ML1       0    0    0    0    0    0    0    1    0    0    0    0    0   \n",
       "A3GALT2     0    0    0    0    0    0    0    0    0    0    0    0    0   \n",
       "\n",
       "          S7b  S8a  S8b  S9a  S9b  \n",
       "geneName                           \n",
       "A1BG        3    4    5    5    3  \n",
       "A1CF        0    2    0    0    0  \n",
       "A2M         0    0    0    0    2  \n",
       "A2ML1       1    0    0    0    0  \n",
       "A3GALT2     0    0    0    0    0  "
      ]
     },
     "execution_count": 2,
     "metadata": {},
     "output_type": "execute_result"
    }
   ],
   "source": [
    "# Load data (taken exactly from Cooper)\n",
    "data_path = f\"/nfs/turbo/umms-indikar/shared/projects/cell_cycle/data/RNA_pipeline_ouputs/countMatrix/counts.raw.txt\"\n",
    "gene_path = f\"/nfs/turbo/umms-indikar/shared/projects/cell_cycle/data/RNA_pipeline_ouputs/references/geneTable.csv\"\n",
    "\n",
    "\"\"\" Load the raw expression \"\"\"\n",
    "df = pd.read_csv(data_path, index_col=0)\n",
    "\n",
    "# remove MT and ribosomal genes\n",
    "all_genes = df.index.to_list()\n",
    "mt_genes = [x for x in all_genes if x.startswith('MT-')]\n",
    "rp_genes = [x for x in all_genes if x.startswith('RP')]\n",
    "\n",
    "print(f\"{df.shape=}\")\n",
    "df = df.drop(mt_genes) # drop MT genes\n",
    "df = df.drop(rp_genes) # drop ribosomal genes\n",
    "print(f\"{df.shape=}\")\n",
    "\n",
    "# rewrite the list without MT genes\n",
    "gene_names = df.index.to_list()\n",
    "\n",
    "print(f\"{len(all_genes)=} {len(mt_genes)=} {len(gene_names)=}\")\n",
    "\n",
    "\"\"\" Load gene lengths \"\"\"\n",
    "gf = nb.getGeneLengths(gene_path, gene_names)\n",
    "print(f\"{gf.shape=}\")"
   ]
  },
  {
   "cell_type": "code",
   "execution_count": 3,
   "id": "a7bfb736-26c7-4f6b-8ce6-cfc56c5207d8",
   "metadata": {},
   "outputs": [
    {
     "name": "stdout",
     "output_type": "stream",
     "text": [
      "dmd_data.shape=(8112, 8, 2)\n",
      "dmd_res['A'].shape=(8112, 8112)\n",
      "dmd_res['Atilde'].shape=(7, 7)\n",
      "dmd_res['u_r'].shape=(8112, 7)\n",
      "dmd_res['L'].shape=(7,)\n",
      "dmd_res['W'].shape=(7, 7)\n",
      "dmd_res['Phi'].shape=(8112, 7)\n",
      "dmd_res['amplitudes'][0].shape=(7, 8)\n",
      "done\n"
     ]
    }
   ],
   "source": [
    "target = 1e6\n",
    "threshold = 0.5\n",
    "rank = 7\n",
    "tpm = nb.TPM(df, gf, target=target)\n",
    "\n",
    "# get highly expressed genes\n",
    "tpm_dist = tpm.mean(axis=1)\n",
    "mask = (tpm_dist > threshold)\n",
    "high_exp_genes = tpm_dist[mask].index.to_list()    \n",
    "\n",
    "# filter and convert to fold changes\n",
    "d = tpm[tpm.index.isin(high_exp_genes)]\n",
    "dmd_data = nb.data2DMD(d) \n",
    "print(f\"{dmd_data.shape=}\")\n",
    "\n",
    "dmd_res = hasnain_DMD.dmd(dmd_data, rank=rank)\n",
    "\n",
    "print(f\"{dmd_res['A'].shape=}\")\n",
    "print(f\"{dmd_res['Atilde'].shape=}\")\n",
    "print(f\"{dmd_res['u_r'].shape=}\")\n",
    "print(f\"{dmd_res['L'].shape=}\")\n",
    "print(f\"{dmd_res['W'].shape=}\")\n",
    "print(f\"{dmd_res['Phi'].shape=}\")\n",
    "print(f\"{dmd_res['amplitudes'][0].shape=}\")\n",
    "print('done')"
   ]
  },
  {
   "cell_type": "markdown",
   "id": "ae2296d1-0bc7-4300-b4ec-bb4036350217",
   "metadata": {},
   "source": [
    "### 2017 Reprogramming Data"
   ]
  },
  {
   "cell_type": "code",
   "execution_count": 4,
   "id": "55fd66fc-f817-4297-b64c-38d33249c01d",
   "metadata": {},
   "outputs": [
    {
     "name": "stdout",
     "output_type": "stream",
     "text": [
      "df.shape=(19393, 48)\n",
      "df.shape=(19235, 48)\n",
      "len(all_genes)=19393 len(mt_genes)=13 len(gene_names)=19235\n"
     ]
    },
    {
     "name": "stderr",
     "output_type": "stream",
     "text": [
      "/home/jpic/DMD_gene/notebooks/nb_util.py:113: DtypeWarning: Columns (0) have mixed types. Specify dtype option on import or set low_memory=False.\n",
      "  gf = pd.read_csv(gene_table_path)\n"
     ]
    },
    {
     "name": "stdout",
     "output_type": "stream",
     "text": [
      "gf.shape=(19235, 2)\n"
     ]
    }
   ],
   "source": [
    "# Load data (taken exactly from Cooper)\n",
    "data_path = f\"/nfs/turbo/umms-indikar/shared/projects/myod/data/rnaseq/2018_rna/countMatrix/counts.raw.txt\"\n",
    "gene_path = f\"/nfs/turbo/umms-indikar/shared/projects/cell_cycle/data/RNA_pipeline_ouputs/references/geneTable.csv\"\n",
    "\n",
    "\"\"\" Load the raw expression \"\"\"\n",
    "df = pd.read_csv(data_path, index_col=0)\n",
    "\n",
    "# remove MT and ribosomal genes\n",
    "all_genes = df.index.to_list()\n",
    "mt_genes = [x for x in all_genes if x.startswith('MT-')]\n",
    "rp_genes = [x for x in all_genes if x.startswith('RP')]\n",
    "\n",
    "print(f\"{df.shape=}\")\n",
    "df = df.drop(mt_genes) # drop MT genes\n",
    "df = df.drop(rp_genes) # drop ribosomal genes\n",
    "print(f\"{df.shape=}\")\n",
    "\n",
    "# rewrite the list without MT genes\n",
    "gene_names = df.index.to_list()\n",
    "\n",
    "print(f\"{len(all_genes)=} {len(mt_genes)=} {len(gene_names)=}\")\n",
    "\n",
    "\"\"\" Load gene lengths \"\"\"\n",
    "gf = nb.getGeneLengths(gene_path, gene_names)\n",
    "print(f\"{gf.shape=}\")"
   ]
  },
  {
   "cell_type": "code",
   "execution_count": 7,
   "id": "02efc29b-411e-4b37-806e-1a95bfb1c348",
   "metadata": {},
   "outputs": [
    {
     "ename": "IndexError",
     "evalue": "list index out of range",
     "output_type": "error",
     "traceback": [
      "\u001b[0;31m---------------------------------------------------------------------------\u001b[0m",
      "\u001b[0;31mIndexError\u001b[0m                                Traceback (most recent call last)",
      "\u001b[0;32m/tmp/ipykernel_1292862/508451223.py\u001b[0m in \u001b[0;36m<module>\u001b[0;34m\u001b[0m\n\u001b[1;32m     11\u001b[0m \u001b[0;31m# filter and convert to fold changes\u001b[0m\u001b[0;34m\u001b[0m\u001b[0;34m\u001b[0m\u001b[0m\n\u001b[1;32m     12\u001b[0m \u001b[0md\u001b[0m \u001b[0;34m=\u001b[0m \u001b[0mtpm\u001b[0m\u001b[0;34m[\u001b[0m\u001b[0mtpm\u001b[0m\u001b[0;34m.\u001b[0m\u001b[0mindex\u001b[0m\u001b[0;34m.\u001b[0m\u001b[0misin\u001b[0m\u001b[0;34m(\u001b[0m\u001b[0mhigh_exp_genes\u001b[0m\u001b[0;34m)\u001b[0m\u001b[0;34m]\u001b[0m\u001b[0;34m\u001b[0m\u001b[0;34m\u001b[0m\u001b[0m\n\u001b[0;32m---> 13\u001b[0;31m \u001b[0mdmd_data\u001b[0m \u001b[0;34m=\u001b[0m \u001b[0mnb\u001b[0m\u001b[0;34m.\u001b[0m\u001b[0mdata2DMD\u001b[0m\u001b[0;34m(\u001b[0m\u001b[0md\u001b[0m\u001b[0;34m)\u001b[0m\u001b[0;34m\u001b[0m\u001b[0;34m\u001b[0m\u001b[0m\n\u001b[0m\u001b[1;32m     14\u001b[0m \u001b[0mprint\u001b[0m\u001b[0;34m(\u001b[0m\u001b[0;34mf\"{dmd_data.shape=}\"\u001b[0m\u001b[0;34m)\u001b[0m\u001b[0;34m\u001b[0m\u001b[0;34m\u001b[0m\u001b[0m\n\u001b[1;32m     15\u001b[0m \u001b[0;34m\u001b[0m\u001b[0m\n",
      "\u001b[0;32m~/DMD_gene/notebooks/nb_util.py\u001b[0m in \u001b[0;36mdata2DMD\u001b[0;34m(df)\u001b[0m\n\u001b[1;32m    167\u001b[0m     \u001b[0mb\u001b[0m \u001b[0;34m=\u001b[0m \u001b[0;34m[\u001b[0m\u001b[0mx\u001b[0m \u001b[0;32mfor\u001b[0m \u001b[0mx\u001b[0m \u001b[0;32min\u001b[0m \u001b[0mdf\u001b[0m\u001b[0;34m.\u001b[0m\u001b[0mcolumns\u001b[0m \u001b[0;32mif\u001b[0m \u001b[0;34m\"b\"\u001b[0m \u001b[0;32min\u001b[0m \u001b[0mx\u001b[0m\u001b[0;34m]\u001b[0m\u001b[0;34m\u001b[0m\u001b[0;34m\u001b[0m\u001b[0m\n\u001b[1;32m    168\u001b[0m \u001b[0;34m\u001b[0m\u001b[0m\n\u001b[0;32m--> 169\u001b[0;31m     \u001b[0mdfa\u001b[0m \u001b[0;34m=\u001b[0m \u001b[0mgetFCFrame\u001b[0m\u001b[0;34m(\u001b[0m\u001b[0mdf\u001b[0m\u001b[0;34m,\u001b[0m \u001b[0ma\u001b[0m\u001b[0;34m)\u001b[0m\u001b[0;34m\u001b[0m\u001b[0;34m\u001b[0m\u001b[0m\n\u001b[0m\u001b[1;32m    170\u001b[0m     \u001b[0mdfb\u001b[0m \u001b[0;34m=\u001b[0m \u001b[0mgetFCFrame\u001b[0m\u001b[0;34m(\u001b[0m\u001b[0mdf\u001b[0m\u001b[0;34m,\u001b[0m \u001b[0mb\u001b[0m\u001b[0;34m)\u001b[0m\u001b[0;34m\u001b[0m\u001b[0;34m\u001b[0m\u001b[0m\n\u001b[1;32m    171\u001b[0m \u001b[0;34m\u001b[0m\u001b[0m\n",
      "\u001b[0;32m~/DMD_gene/notebooks/nb_util.py\u001b[0m in \u001b[0;36mgetFCFrame\u001b[0;34m(df, cols)\u001b[0m\n\u001b[1;32m    156\u001b[0m     and that cols[0] is the initial condition \"\"\"\n\u001b[1;32m    157\u001b[0m     \u001b[0mdf2\u001b[0m \u001b[0;34m=\u001b[0m \u001b[0mdf\u001b[0m\u001b[0;34m[\u001b[0m\u001b[0mcols\u001b[0m\u001b[0;34m]\u001b[0m\u001b[0;34m.\u001b[0m\u001b[0mcopy\u001b[0m\u001b[0;34m(\u001b[0m\u001b[0;34m)\u001b[0m\u001b[0;34m\u001b[0m\u001b[0;34m\u001b[0m\u001b[0m\n\u001b[0;32m--> 158\u001b[0;31m     \u001b[0mx0\u001b[0m \u001b[0;34m=\u001b[0m \u001b[0mcols\u001b[0m\u001b[0;34m[\u001b[0m\u001b[0;36m0\u001b[0m\u001b[0;34m]\u001b[0m \u001b[0;31m# initial condition\u001b[0m\u001b[0;34m\u001b[0m\u001b[0;34m\u001b[0m\u001b[0m\n\u001b[0m\u001b[1;32m    159\u001b[0m     \u001b[0;32mfor\u001b[0m \u001b[0mc\u001b[0m \u001b[0;32min\u001b[0m \u001b[0mcols\u001b[0m\u001b[0;34m[\u001b[0m\u001b[0;36m1\u001b[0m\u001b[0;34m:\u001b[0m\u001b[0;34m]\u001b[0m\u001b[0;34m:\u001b[0m\u001b[0;34m\u001b[0m\u001b[0;34m\u001b[0m\u001b[0m\n\u001b[1;32m    160\u001b[0m         \u001b[0mdf2\u001b[0m\u001b[0;34m[\u001b[0m\u001b[0mc\u001b[0m\u001b[0;34m]\u001b[0m \u001b[0;34m=\u001b[0m \u001b[0;34m(\u001b[0m\u001b[0mdf2\u001b[0m\u001b[0;34m[\u001b[0m\u001b[0mc\u001b[0m\u001b[0;34m]\u001b[0m \u001b[0;34m+\u001b[0m \u001b[0;36m1\u001b[0m\u001b[0;34m)\u001b[0m \u001b[0;34m/\u001b[0m  \u001b[0;34m(\u001b[0m\u001b[0mdf2\u001b[0m\u001b[0;34m[\u001b[0m\u001b[0mx0\u001b[0m\u001b[0;34m]\u001b[0m\u001b[0;34m.\u001b[0m\u001b[0mmean\u001b[0m\u001b[0;34m(\u001b[0m\u001b[0;34m)\u001b[0m \u001b[0;34m+\u001b[0m \u001b[0;36m1\u001b[0m\u001b[0;34m)\u001b[0m\u001b[0;34m\u001b[0m\u001b[0;34m\u001b[0m\u001b[0m\n",
      "\u001b[0;31mIndexError\u001b[0m: list index out of range"
     ]
    }
   ],
   "source": [
    "target = 1e6\n",
    "threshold = 0.5\n",
    "rank = 7\n",
    "tpm = nb.TPM(df, gf, target=target)\n",
    "\n",
    "# get highly expressed genes\n",
    "tpm_dist = tpm.mean(axis=1)\n",
    "mask = (tpm_dist > threshold)\n",
    "high_exp_genes = tpm_dist[mask].index.to_list()    \n",
    "\n",
    "# filter and convert to fold changes\n",
    "d = tpm[tpm.index.isin(high_exp_genes)]\n",
    "dmd_data = nb.data2DMD(d) \n",
    "print(f\"{dmd_data.shape=}\")\n",
    "\n",
    "dmd_res = hasnain_DMD.dmd(dmd_data, rank=rank)\n",
    "\n",
    "print(f\"{dmd_res['A'].shape=}\")\n",
    "print(f\"{dmd_res['Atilde'].shape=}\")\n",
    "print(f\"{dmd_res['u_r'].shape=}\")\n",
    "print(f\"{dmd_res['L'].shape=}\")\n",
    "print(f\"{dmd_res['W'].shape=}\")\n",
    "print(f\"{dmd_res['Phi'].shape=}\")\n",
    "print(f\"{dmd_res['amplitudes'][0].shape=}\")\n",
    "print('done')"
   ]
  },
  {
   "cell_type": "markdown",
   "id": "f1979618-595a-47a8-8610-c57e0802021c",
   "metadata": {},
   "source": [
    "## Scratch"
   ]
  },
  {
   "cell_type": "code",
   "execution_count": 5,
   "id": "f449da24-bebb-4e14-a829-19a2663f67b8",
   "metadata": {},
   "outputs": [
    {
     "name": "stdout",
     "output_type": "stream",
     "text": [
      "geneName,S1a,S1b,S2a,S2b,S3a,S3b,S4a,S4b,S5a,S5b,S6a,S6b,S7a,S7b,S8a,S8b,S9a,S9b\n",
      "A1BG,12,5,5,9,2,6,7,3,6,5,5,5,4,3,4,5,5,3\n",
      "A1CF,0,0,0,0,0,0,0,0,0,0,0,1,2,0,2,0,0,0\n",
      "A2M,0,0,0,2,0,0,0,0,0,0,1,0,1,0,0,0,0,2\n",
      "A2ML1,0,0,0,0,0,0,0,1,0,0,0,0,0,1,0,0,0,0\n",
      "A3GALT2,0,0,0,0,0,0,0,0,0,0,0,0,0,0,0,0,0,0\n",
      "A4GALT,150,133,122,137,143,153,116,131,111,109,117,141,137,138,94,68,155,134\n",
      "A4GNT,0,0,0,0,0,2,0,0,0,0,0,0,0,0,0,1,0,0\n",
      "AAAS,330,342,507,563,535,548,346,328,438,415,387,387,341,338,409,437,416,469\n",
      "AACS,473,464,565,519,481,483,526,484,563,635,480,478,467,523,413,456,485,503\n"
     ]
    }
   ],
   "source": [
    "!head /nfs/turbo/umms-indikar/shared/projects/cell_cycle/data/RNA_pipeline_ouputs/countMatrix/counts.raw.txt"
   ]
  },
  {
   "cell_type": "code",
   "execution_count": 6,
   "id": "75a03274-8407-4d08-9068-b1d4f9154f96",
   "metadata": {},
   "outputs": [
    {
     "name": "stdout",
     "output_type": "stream",
     "text": [
      "geneName,63246_T0R1,63252_T1R1,63249_T2R1,63261_T3R1,63258_T4R1,63255_T5R1,63270_T6R1,63267_T7R1,63264_T8R1,63279_T9R1,63276_T10R1,63273_T11R1,63288_T12R1,63285_T13R1,63282_T14R1,63291_T15R1,63247_T0R2,63253_T1R2,63250_T2R2,63262_T3R2,63259_T4R2,63256_T5R2,63271_T6R2,63268_T7R2,63265_T8R2,63280_T9R2,63277_T10R2,63274_T11R2,63289_T12R2,63286_T13R2,63283_T14R2,63292_T15R2,63248_T0R3,63254_T1R3,63251_T2R3,63263_T3R3,63260_T4R3,63257_T5R3,63272_T6R3,63269_T7R3,63266_T8R3,63281_T9R3,63278_T10R3,63275_T11R3,63290_T12R3,63287_T13R3,63284_T14R3,63293_T15R3\n",
      "A1BG,12,26,6,14,13,11,30,13,17,11,13,17,22,3,7,7,17,21,5,13,11,17,22,14,18,28,23,11,16,3,2,9,17,19,8,17,15,5,19,18,27,15,22,14,14,8,14,11\n",
      "A1CF,1,1,0,0,0,1,4,1,1,0,1,0,1,7,0,0,0,1,0,0,1,4,0,5,0,2,1,1,2,3,0,0,0,0,2,1,0,1,2,2,1,1,0,3,0,5,0,1\n",
      "A2M,3595,5795,3903,4714,2423,2915,4399,2681,3036,3123,4190,2473,3763,3175,2525,3150,3820,4189,4162,3073,2746,3736,3397,3171,3737,3834,4964,2631,3831,2714,1513,2974,3607,2751,3929,3332,2845,2806,3952,3457,3674,3769,3974,3461,2359,2805,3002,3481\n",
      "A2ML1,0,1,0,1,0,2,2,1,3,1,2,0,1,0,2,2,1,0,0,2,2,0,2,1,1,3,0,2,0,0,1,0,1,0,0,0,1,1,0,1,0,0,0,0,0,0,1,0\n",
      "A3GALT2,1,0,0,3,0,1,0,0,1,1,0,0,0,0,0,0,0,1,0,0,0,2,0,1,0,2,0,2,0,1,0,0,0,0,2,0,0,1,4,0,0,1,1,0,2,3,1,0\n",
      "A4GALT,462,640,504,217,265,430,404,292,310,391,468,359,304,446,297,275,437,474,556,224,271,550,235,368,428,451,546,308,431,578,143,513,603,302,476,216,368,431,304,368,385,449,470,515,344,780,429,462\n",
      "A4GNT,19,13,4,20,10,1,15,8,7,2,13,4,19,0,8,8,14,19,2,9,12,1,11,7,10,11,17,2,14,0,6,5,21,10,11,10,11,1,11,8,20,9,12,4,9,2,9,6\n",
      "AAAS,324,501,281,448,205,322,563,334,345,349,432,347,322,339,198,199,304,425,351,334,267,395,521,417,480,438,445,338,317,311,135,260,370,256,309,422,215,307,508,407,433,363,399,439,226,368,246,251\n",
      "AACS,304,1162,471,597,463,490,1076,437,425,483,930,610,550,641,418,341,295,833,513,519,463,598,887,576,566,654,1087,632,580,668,248,472,411,569,470,531,495,548,963,489,558,545,805,777,453,688,526,412\n"
     ]
    }
   ],
   "source": [
    "!head /nfs/turbo/umms-indikar/shared/projects/myod/data/rnaseq/2018_rna/countMatrix/counts.raw.txt"
   ]
  }
 ],
 "metadata": {
  "kernelspec": {
   "display_name": "Python 3 (ipykernel)",
   "language": "python",
   "name": "python3"
  },
  "language_info": {
   "codemirror_mode": {
    "name": "ipython",
    "version": 3
   },
   "file_extension": ".py",
   "mimetype": "text/x-python",
   "name": "python",
   "nbconvert_exporter": "python",
   "pygments_lexer": "ipython3",
   "version": "3.9.7"
  }
 },
 "nbformat": 4,
 "nbformat_minor": 5
}
